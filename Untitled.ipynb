{
 "cells": [
  {
   "cell_type": "code",
   "execution_count": 1,
   "id": "4f1b1acb",
   "metadata": {
    "ExecuteTime": {
     "end_time": "2022-12-18T10:49:03.344736Z",
     "start_time": "2022-12-18T10:49:02.906870Z"
    }
   },
   "outputs": [],
   "source": [
    "import numpy as np\n",
    "import pandas as pd\n",
    "\n",
    "with open('JERS_values.npy', 'rb') as f:\n",
    "            g = np.load(f, allow_pickle=True)"
   ]
  },
  {
   "cell_type": "code",
   "execution_count": 2,
   "id": "71bff75d",
   "metadata": {
    "ExecuteTime": {
     "end_time": "2022-12-18T10:49:04.096890Z",
     "start_time": "2022-12-18T10:49:04.076892Z"
    }
   },
   "outputs": [
    {
     "data": {
      "text/plain": [
       "(9819, 7)"
      ]
     },
     "execution_count": 2,
     "metadata": {},
     "output_type": "execute_result"
    }
   ],
   "source": [
    "g = pd.DataFrame(g)\n",
    "g.shape"
   ]
  },
  {
   "cell_type": "code",
   "execution_count": 3,
   "id": "dee86a55",
   "metadata": {
    "ExecuteTime": {
     "end_time": "2022-12-18T10:49:07.876917Z",
     "start_time": "2022-12-18T10:49:07.858969Z"
    }
   },
   "outputs": [],
   "source": [
    "X = g.iloc[:, :6]\n",
    "y = g.iloc[:, 6:]"
   ]
  },
  {
   "cell_type": "code",
   "execution_count": 6,
   "id": "a497e01f",
   "metadata": {
    "ExecuteTime": {
     "end_time": "2022-12-18T10:49:15.307565Z",
     "start_time": "2022-12-18T10:49:15.270476Z"
    }
   },
   "outputs": [
    {
     "data": {
      "text/html": [
       "<div>\n",
       "<style scoped>\n",
       "    .dataframe tbody tr th:only-of-type {\n",
       "        vertical-align: middle;\n",
       "    }\n",
       "\n",
       "    .dataframe tbody tr th {\n",
       "        vertical-align: top;\n",
       "    }\n",
       "\n",
       "    .dataframe thead th {\n",
       "        text-align: right;\n",
       "    }\n",
       "</style>\n",
       "<table border=\"1\" class=\"dataframe\">\n",
       "  <thead>\n",
       "    <tr style=\"text-align: right;\">\n",
       "      <th></th>\n",
       "      <th>a</th>\n",
       "      <th>b</th>\n",
       "      <th>c</th>\n",
       "      <th>d</th>\n",
       "      <th>e</th>\n",
       "      <th>f</th>\n",
       "      <th>y</th>\n",
       "    </tr>\n",
       "  </thead>\n",
       "  <tbody>\n",
       "    <tr>\n",
       "      <th>0</th>\n",
       "      <td>3.0</td>\n",
       "      <td>8.0</td>\n",
       "      <td>7.0</td>\n",
       "      <td>3.0</td>\n",
       "      <td>2.0</td>\n",
       "      <td>-0.076259</td>\n",
       "      <td>1.0</td>\n",
       "    </tr>\n",
       "    <tr>\n",
       "      <th>1</th>\n",
       "      <td>3.0</td>\n",
       "      <td>8.0</td>\n",
       "      <td>7.0</td>\n",
       "      <td>3.0</td>\n",
       "      <td>2.0</td>\n",
       "      <td>-0.076259</td>\n",
       "      <td>1.0</td>\n",
       "    </tr>\n",
       "    <tr>\n",
       "      <th>2</th>\n",
       "      <td>3.0</td>\n",
       "      <td>7.0</td>\n",
       "      <td>8.0</td>\n",
       "      <td>4.0</td>\n",
       "      <td>2.0</td>\n",
       "      <td>-0.251752</td>\n",
       "      <td>1.0</td>\n",
       "    </tr>\n",
       "    <tr>\n",
       "      <th>3</th>\n",
       "      <td>4.0</td>\n",
       "      <td>9.0</td>\n",
       "      <td>6.0</td>\n",
       "      <td>3.0</td>\n",
       "      <td>2.0</td>\n",
       "      <td>-0.251752</td>\n",
       "      <td>1.0</td>\n",
       "    </tr>\n",
       "    <tr>\n",
       "      <th>4</th>\n",
       "      <td>4.0</td>\n",
       "      <td>9.0</td>\n",
       "      <td>6.0</td>\n",
       "      <td>3.0</td>\n",
       "      <td>2.0</td>\n",
       "      <td>-0.251752</td>\n",
       "      <td>1.0</td>\n",
       "    </tr>\n",
       "    <tr>\n",
       "      <th>...</th>\n",
       "      <td>...</td>\n",
       "      <td>...</td>\n",
       "      <td>...</td>\n",
       "      <td>...</td>\n",
       "      <td>...</td>\n",
       "      <td>...</td>\n",
       "      <td>...</td>\n",
       "    </tr>\n",
       "    <tr>\n",
       "      <th>9814</th>\n",
       "      <td>3.0</td>\n",
       "      <td>7.0</td>\n",
       "      <td>12.0</td>\n",
       "      <td>4.0</td>\n",
       "      <td>2.0</td>\n",
       "      <td>-0.003925</td>\n",
       "      <td>0.0</td>\n",
       "    </tr>\n",
       "    <tr>\n",
       "      <th>9815</th>\n",
       "      <td>3.0</td>\n",
       "      <td>7.0</td>\n",
       "      <td>12.0</td>\n",
       "      <td>4.0</td>\n",
       "      <td>2.0</td>\n",
       "      <td>-0.003925</td>\n",
       "      <td>0.0</td>\n",
       "    </tr>\n",
       "    <tr>\n",
       "      <th>9816</th>\n",
       "      <td>3.0</td>\n",
       "      <td>6.0</td>\n",
       "      <td>14.0</td>\n",
       "      <td>4.0</td>\n",
       "      <td>3.0</td>\n",
       "      <td>-0.003898</td>\n",
       "      <td>0.0</td>\n",
       "    </tr>\n",
       "    <tr>\n",
       "      <th>9817</th>\n",
       "      <td>3.0</td>\n",
       "      <td>6.0</td>\n",
       "      <td>14.0</td>\n",
       "      <td>4.0</td>\n",
       "      <td>3.0</td>\n",
       "      <td>-0.003898</td>\n",
       "      <td>0.0</td>\n",
       "    </tr>\n",
       "    <tr>\n",
       "      <th>9818</th>\n",
       "      <td>3.0</td>\n",
       "      <td>6.0</td>\n",
       "      <td>14.0</td>\n",
       "      <td>4.0</td>\n",
       "      <td>3.0</td>\n",
       "      <td>-0.003898</td>\n",
       "      <td>0.0</td>\n",
       "    </tr>\n",
       "  </tbody>\n",
       "</table>\n",
       "<p>9819 rows × 7 columns</p>\n",
       "</div>"
      ],
      "text/plain": [
       "        a    b     c    d    e         f    y\n",
       "0     3.0  8.0   7.0  3.0  2.0 -0.076259  1.0\n",
       "1     3.0  8.0   7.0  3.0  2.0 -0.076259  1.0\n",
       "2     3.0  7.0   8.0  4.0  2.0 -0.251752  1.0\n",
       "3     4.0  9.0   6.0  3.0  2.0 -0.251752  1.0\n",
       "4     4.0  9.0   6.0  3.0  2.0 -0.251752  1.0\n",
       "...   ...  ...   ...  ...  ...       ...  ...\n",
       "9814  3.0  7.0  12.0  4.0  2.0 -0.003925  0.0\n",
       "9815  3.0  7.0  12.0  4.0  2.0 -0.003925  0.0\n",
       "9816  3.0  6.0  14.0  4.0  3.0 -0.003898  0.0\n",
       "9817  3.0  6.0  14.0  4.0  3.0 -0.003898  0.0\n",
       "9818  3.0  6.0  14.0  4.0  3.0 -0.003898  0.0\n",
       "\n",
       "[9819 rows x 7 columns]"
      ]
     },
     "execution_count": 6,
     "metadata": {},
     "output_type": "execute_result"
    }
   ],
   "source": [
    "g.columns = ['a','b','c','d','e', 'f','y']\n",
    "g"
   ]
  },
  {
   "cell_type": "code",
   "execution_count": 15,
   "id": "2aa29728",
   "metadata": {
    "ExecuteTime": {
     "end_time": "2022-12-18T10:49:50.797106Z",
     "start_time": "2022-12-18T10:49:50.773853Z"
    }
   },
   "outputs": [
    {
     "data": {
      "text/plain": [
       "9068"
      ]
     },
     "execution_count": 15,
     "metadata": {},
     "output_type": "execute_result"
    }
   ],
   "source": [
    "np.sum(g.y == 0)"
   ]
  },
  {
   "cell_type": "code",
   "execution_count": 7,
   "id": "0018f874",
   "metadata": {
    "ExecuteTime": {
     "end_time": "2022-12-18T10:49:26.740972Z",
     "start_time": "2022-12-18T10:49:26.720850Z"
    }
   },
   "outputs": [
    {
     "data": {
      "text/plain": [
       "count    9819.000000\n",
       "mean        0.089113\n",
       "std         0.326251\n",
       "min         0.000000\n",
       "25%         0.000000\n",
       "50%         0.000000\n",
       "75%         0.000000\n",
       "max         2.000000\n",
       "Name: y, dtype: float64"
      ]
     },
     "execution_count": 7,
     "metadata": {},
     "output_type": "execute_result"
    }
   ],
   "source": [
    "g.y.describe()"
   ]
  },
  {
   "cell_type": "code",
   "execution_count": 58,
   "id": "abee970b",
   "metadata": {
    "ExecuteTime": {
     "end_time": "2022-12-18T11:03:23.503061Z",
     "start_time": "2022-12-18T11:03:23.410967Z"
    }
   },
   "outputs": [
    {
     "name": "stderr",
     "output_type": "stream",
     "text": [
      "C:\\Users\\Jairo Enrique\\AppData\\Local\\Temp\\ipykernel_9456\\819614899.py:5: DataConversionWarning: A column-vector y was passed when a 1d array was expected. Please change the shape of y to (n_samples, ), for example using ravel().\n",
      "  neigh = KNeighborsClassifier(n_neighbors = 3).fit(X, y)\n"
     ]
    }
   ],
   "source": [
    "from sklearn.neural_network import MLPClassifier\n",
    "from sklearn.neighbors import KNeighborsClassifier\n",
    "from sklearn.tree import DecisionTreeClassifier\n",
    "\n",
    "neigh = KNeighborsClassifier(n_neighbors = 3).fit(X, y)\n",
    "\n",
    "tree = DecisionTreeClassifier(random_state=0, max_depth = 50).fit(X, y)\n",
    "\n",
    "#nn = MLPClassifier(random_state = 1, max_iter = 1000).fit(X, y)"
   ]
  },
  {
   "cell_type": "code",
   "execution_count": 60,
   "id": "f5a6865c",
   "metadata": {
    "ExecuteTime": {
     "end_time": "2022-12-18T11:03:29.006425Z",
     "start_time": "2022-12-18T11:03:28.986200Z"
    }
   },
   "outputs": [
    {
     "data": {
      "text/plain": [
       "['JERS.joblib']"
      ]
     },
     "execution_count": 60,
     "metadata": {},
     "output_type": "execute_result"
    }
   ],
   "source": [
    "from joblib import dump, load\n",
    "dump(tree, 'JERS.joblib') "
   ]
  },
  {
   "cell_type": "code",
   "execution_count": 85,
   "id": "864cb5ab",
   "metadata": {
    "ExecuteTime": {
     "end_time": "2022-12-15T13:25:26.057076Z",
     "start_time": "2022-12-15T13:25:26.039990Z"
    }
   },
   "outputs": [],
   "source": [
    "tree = load('JERS.joblib') "
   ]
  },
  {
   "cell_type": "code",
   "execution_count": 17,
   "id": "4989d527",
   "metadata": {
    "ExecuteTime": {
     "end_time": "2022-12-18T10:50:07.479376Z",
     "start_time": "2022-12-18T10:50:07.461441Z"
    }
   },
   "outputs": [],
   "source": [
    "action = tree.predict(np.array(X.iloc[300,:]).reshape(-1,1).T)"
   ]
  },
  {
   "cell_type": "code",
   "execution_count": 59,
   "id": "c141d7ab",
   "metadata": {
    "ExecuteTime": {
     "end_time": "2022-12-18T11:03:25.750494Z",
     "start_time": "2022-12-18T11:03:25.469274Z"
    }
   },
   "outputs": [
    {
     "name": "stdout",
     "output_type": "stream",
     "text": [
      "              precision    recall  f1-score   support\n",
      "\n",
      "         0.0       0.97      0.97      0.97      9068\n",
      "         1.0       0.65      0.72      0.68       627\n",
      "         2.0       0.62      0.36      0.46       124\n",
      "\n",
      "    accuracy                           0.95      9819\n",
      "   macro avg       0.74      0.68      0.70      9819\n",
      "weighted avg       0.95      0.95      0.95      9819\n",
      "\n",
      "              precision    recall  f1-score   support\n",
      "\n",
      "         0.0       0.97      0.99      0.98      9068\n",
      "         1.0       0.83      0.61      0.70       627\n",
      "         2.0       0.77      0.37      0.50       124\n",
      "\n",
      "    accuracy                           0.96      9819\n",
      "   macro avg       0.85      0.66      0.73      9819\n",
      "weighted avg       0.95      0.96      0.95      9819\n",
      "\n"
     ]
    }
   ],
   "source": [
    "from sklearn.metrics import classification_report\n",
    "\n",
    "y_pred = neigh.predict(X)\n",
    "print(classification_report(y, y_pred))\n",
    "\n",
    "y_pred = tree.predict(X)\n",
    "print(classification_report(y, y_pred))"
   ]
  },
  {
   "cell_type": "code",
   "execution_count": 37,
   "id": "63d4eb61",
   "metadata": {
    "ExecuteTime": {
     "end_time": "2022-12-18T10:54:54.180222Z",
     "start_time": "2022-12-18T10:54:54.158265Z"
    }
   },
   "outputs": [
    {
     "data": {
      "text/plain": [
       "array([[0.91906381, 0.07516158, 0.00577461]])"
      ]
     },
     "execution_count": 37,
     "metadata": {},
     "output_type": "execute_result"
    }
   ],
   "source": [
    "nn.predict_proba(np.array(X)[0,:].reshape(1,-1))"
   ]
  },
  {
   "cell_type": "code",
   "execution_count": 42,
   "id": "b2271f51",
   "metadata": {
    "ExecuteTime": {
     "end_time": "2022-12-18T10:58:29.312611Z",
     "start_time": "2022-12-18T10:58:29.288638Z"
    }
   },
   "outputs": [
    {
     "data": {
      "text/plain": [
       "array([1.])"
      ]
     },
     "execution_count": 42,
     "metadata": {},
     "output_type": "execute_result"
    }
   ],
   "source": [
    "neigh.predict(np.array(X)[0,:].reshape(1,-1))"
   ]
  }
 ],
 "metadata": {
  "hide_input": false,
  "kernelspec": {
   "display_name": "Python 3 (ipykernel)",
   "language": "python",
   "name": "python3"
  },
  "language_info": {
   "codemirror_mode": {
    "name": "ipython",
    "version": 3
   },
   "file_extension": ".py",
   "mimetype": "text/x-python",
   "name": "python",
   "nbconvert_exporter": "python",
   "pygments_lexer": "ipython3",
   "version": "3.8.5"
  },
  "varInspector": {
   "cols": {
    "lenName": 16,
    "lenType": 16,
    "lenVar": 40
   },
   "kernels_config": {
    "python": {
     "delete_cmd_postfix": "",
     "delete_cmd_prefix": "del ",
     "library": "var_list.py",
     "varRefreshCmd": "print(var_dic_list())"
    },
    "r": {
     "delete_cmd_postfix": ") ",
     "delete_cmd_prefix": "rm(",
     "library": "var_list.r",
     "varRefreshCmd": "cat(var_dic_list()) "
    }
   },
   "types_to_exclude": [
    "module",
    "function",
    "builtin_function_or_method",
    "instance",
    "_Feature"
   ],
   "window_display": false
  }
 },
 "nbformat": 4,
 "nbformat_minor": 5
}
