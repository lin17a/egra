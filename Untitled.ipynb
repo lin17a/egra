{
 "cells": [
  {
   "cell_type": "code",
   "execution_count": 1,
   "id": "9ccf9743",
   "metadata": {
    "ExecuteTime": {
     "end_time": "2022-12-16T11:08:12.898843Z",
     "start_time": "2022-12-16T11:08:12.600312Z"
    }
   },
   "outputs": [],
   "source": [
    "import numpy as np\n",
    "import pandas as pd\n",
    "\n",
    "with open('JERS_values.npy', 'rb') as f:\n",
    "            g = np.load(f, allow_pickle=True)"
   ]
  },
  {
   "cell_type": "code",
   "execution_count": 2,
   "id": "fc6032f0",
   "metadata": {
    "ExecuteTime": {
     "end_time": "2022-12-16T11:08:13.527227Z",
     "start_time": "2022-12-16T11:08:13.508985Z"
    }
   },
   "outputs": [
    {
     "data": {
      "text/plain": [
       "(18646, 7)"
      ]
     },
     "execution_count": 2,
     "metadata": {},
     "output_type": "execute_result"
    }
   ],
   "source": [
    "g = pd.DataFrame(g)\n",
    "g.shape"
   ]
  },
  {
   "cell_type": "code",
   "execution_count": 3,
   "id": "d7b6f454",
   "metadata": {
    "ExecuteTime": {
     "end_time": "2022-12-16T11:08:14.372271Z",
     "start_time": "2022-12-16T11:08:14.351345Z"
    }
   },
   "outputs": [],
   "source": [
    "X = g.iloc[:, :6]\n",
    "y = g.iloc[:, 6:]"
   ]
  },
  {
   "cell_type": "code",
   "execution_count": 19,
   "id": "9b0298fe",
   "metadata": {
    "ExecuteTime": {
     "end_time": "2022-12-16T11:10:19.168083Z",
     "start_time": "2022-12-16T11:10:19.159504Z"
    }
   },
   "outputs": [],
   "source": [
    "g.columns = ['a','b','c','d','e', 'f','y']"
   ]
  },
  {
   "cell_type": "code",
   "execution_count": 22,
   "id": "a4a74cb2",
   "metadata": {
    "ExecuteTime": {
     "end_time": "2022-12-16T11:10:36.491190Z",
     "start_time": "2022-12-16T11:10:36.451976Z"
    }
   },
   "outputs": [
    {
     "data": {
      "text/html": [
       "<div>\n",
       "<style scoped>\n",
       "    .dataframe tbody tr th:only-of-type {\n",
       "        vertical-align: middle;\n",
       "    }\n",
       "\n",
       "    .dataframe tbody tr th {\n",
       "        vertical-align: top;\n",
       "    }\n",
       "\n",
       "    .dataframe thead th {\n",
       "        text-align: right;\n",
       "    }\n",
       "</style>\n",
       "<table border=\"1\" class=\"dataframe\">\n",
       "  <thead>\n",
       "    <tr style=\"text-align: right;\">\n",
       "      <th></th>\n",
       "      <th>a</th>\n",
       "      <th>b</th>\n",
       "      <th>c</th>\n",
       "      <th>d</th>\n",
       "      <th>e</th>\n",
       "      <th>f</th>\n",
       "      <th>y</th>\n",
       "    </tr>\n",
       "  </thead>\n",
       "  <tbody>\n",
       "    <tr>\n",
       "      <th>2557</th>\n",
       "      <td>0.0</td>\n",
       "      <td>0.0</td>\n",
       "      <td>0.0</td>\n",
       "      <td>0.0</td>\n",
       "      <td>0.0</td>\n",
       "      <td>19.293235</td>\n",
       "      <td>2.0</td>\n",
       "    </tr>\n",
       "    <tr>\n",
       "      <th>2558</th>\n",
       "      <td>0.0</td>\n",
       "      <td>0.0</td>\n",
       "      <td>0.0</td>\n",
       "      <td>0.0</td>\n",
       "      <td>0.0</td>\n",
       "      <td>22.200133</td>\n",
       "      <td>2.0</td>\n",
       "    </tr>\n",
       "    <tr>\n",
       "      <th>2559</th>\n",
       "      <td>0.0</td>\n",
       "      <td>0.0</td>\n",
       "      <td>0.0</td>\n",
       "      <td>0.0</td>\n",
       "      <td>0.0</td>\n",
       "      <td>22.106938</td>\n",
       "      <td>2.0</td>\n",
       "    </tr>\n",
       "    <tr>\n",
       "      <th>2560</th>\n",
       "      <td>0.0</td>\n",
       "      <td>0.0</td>\n",
       "      <td>0.0</td>\n",
       "      <td>0.0</td>\n",
       "      <td>0.0</td>\n",
       "      <td>22.013657</td>\n",
       "      <td>2.0</td>\n",
       "    </tr>\n",
       "    <tr>\n",
       "      <th>2561</th>\n",
       "      <td>0.0</td>\n",
       "      <td>0.0</td>\n",
       "      <td>0.0</td>\n",
       "      <td>0.0</td>\n",
       "      <td>0.0</td>\n",
       "      <td>21.920297</td>\n",
       "      <td>2.0</td>\n",
       "    </tr>\n",
       "    <tr>\n",
       "      <th>...</th>\n",
       "      <td>...</td>\n",
       "      <td>...</td>\n",
       "      <td>...</td>\n",
       "      <td>...</td>\n",
       "      <td>...</td>\n",
       "      <td>...</td>\n",
       "      <td>...</td>\n",
       "    </tr>\n",
       "    <tr>\n",
       "      <th>18641</th>\n",
       "      <td>0.0</td>\n",
       "      <td>0.0</td>\n",
       "      <td>0.0</td>\n",
       "      <td>0.0</td>\n",
       "      <td>0.0</td>\n",
       "      <td>23.845296</td>\n",
       "      <td>3.0</td>\n",
       "    </tr>\n",
       "    <tr>\n",
       "      <th>18642</th>\n",
       "      <td>0.0</td>\n",
       "      <td>0.0</td>\n",
       "      <td>0.0</td>\n",
       "      <td>0.0</td>\n",
       "      <td>0.0</td>\n",
       "      <td>26.765590</td>\n",
       "      <td>3.0</td>\n",
       "    </tr>\n",
       "    <tr>\n",
       "      <th>18643</th>\n",
       "      <td>0.0</td>\n",
       "      <td>0.0</td>\n",
       "      <td>0.0</td>\n",
       "      <td>0.0</td>\n",
       "      <td>0.0</td>\n",
       "      <td>26.685499</td>\n",
       "      <td>3.0</td>\n",
       "    </tr>\n",
       "    <tr>\n",
       "      <th>18644</th>\n",
       "      <td>0.0</td>\n",
       "      <td>0.0</td>\n",
       "      <td>0.0</td>\n",
       "      <td>0.0</td>\n",
       "      <td>0.0</td>\n",
       "      <td>26.605028</td>\n",
       "      <td>3.0</td>\n",
       "    </tr>\n",
       "    <tr>\n",
       "      <th>18645</th>\n",
       "      <td>0.0</td>\n",
       "      <td>0.0</td>\n",
       "      <td>0.0</td>\n",
       "      <td>0.0</td>\n",
       "      <td>0.0</td>\n",
       "      <td>26.524181</td>\n",
       "      <td>3.0</td>\n",
       "    </tr>\n",
       "  </tbody>\n",
       "</table>\n",
       "<p>254 rows × 7 columns</p>\n",
       "</div>"
      ],
      "text/plain": [
       "         a    b    c    d    e          f    y\n",
       "2557   0.0  0.0  0.0  0.0  0.0  19.293235  2.0\n",
       "2558   0.0  0.0  0.0  0.0  0.0  22.200133  2.0\n",
       "2559   0.0  0.0  0.0  0.0  0.0  22.106938  2.0\n",
       "2560   0.0  0.0  0.0  0.0  0.0  22.013657  2.0\n",
       "2561   0.0  0.0  0.0  0.0  0.0  21.920297  2.0\n",
       "...    ...  ...  ...  ...  ...        ...  ...\n",
       "18641  0.0  0.0  0.0  0.0  0.0  23.845296  3.0\n",
       "18642  0.0  0.0  0.0  0.0  0.0  26.765590  3.0\n",
       "18643  0.0  0.0  0.0  0.0  0.0  26.685499  3.0\n",
       "18644  0.0  0.0  0.0  0.0  0.0  26.605028  3.0\n",
       "18645  0.0  0.0  0.0  0.0  0.0  26.524181  3.0\n",
       "\n",
       "[254 rows x 7 columns]"
      ]
     },
     "execution_count": 22,
     "metadata": {},
     "output_type": "execute_result"
    }
   ],
   "source": [
    "g.query(\"a == 0 and e == 0 and c == 0\")"
   ]
  },
  {
   "cell_type": "code",
   "execution_count": 124,
   "id": "d3720e40",
   "metadata": {
    "ExecuteTime": {
     "end_time": "2022-12-15T14:34:15.641875Z",
     "start_time": "2022-12-15T14:34:04.108191Z"
    }
   },
   "outputs": [
    {
     "name": "stderr",
     "output_type": "stream",
     "text": [
      "C:\\Users\\Jairo Enrique\\.conda\\envs\\DataScience\\lib\\site-packages\\sklearn\\utils\\validation.py:72: DataConversionWarning: A column-vector y was passed when a 1d array was expected. Please change the shape of y to (n_samples, ), for example using ravel().\n",
      "  return f(**kwargs)\n"
     ]
    }
   ],
   "source": [
    "from sklearn.neural_network import MLPClassifier\n",
    "from sklearn.tree import DecisionTreeClassifier\n",
    "\n",
    "tree = DecisionTreeClassifier(random_state=0, max_depth = 20).fit(X, y)\n",
    "\n",
    "nn = MLPClassifier(random_state = 1, max_iter = 1000).fit(X, y)"
   ]
  },
  {
   "cell_type": "code",
   "execution_count": 126,
   "id": "026d43b2",
   "metadata": {
    "ExecuteTime": {
     "end_time": "2022-12-15T14:34:38.859430Z",
     "start_time": "2022-12-15T14:34:38.845430Z"
    }
   },
   "outputs": [
    {
     "data": {
      "text/plain": [
       "['JERS.joblib']"
      ]
     },
     "execution_count": 126,
     "metadata": {},
     "output_type": "execute_result"
    }
   ],
   "source": [
    "from joblib import dump, load\n",
    "dump(tree, 'JERS.joblib') "
   ]
  },
  {
   "cell_type": "code",
   "execution_count": 85,
   "id": "08dfbf9d",
   "metadata": {
    "ExecuteTime": {
     "end_time": "2022-12-15T13:25:26.057076Z",
     "start_time": "2022-12-15T13:25:26.039990Z"
    }
   },
   "outputs": [],
   "source": [
    "tree = load('JERS.joblib') "
   ]
  },
  {
   "cell_type": "code",
   "execution_count": 87,
   "id": "4415ed8c",
   "metadata": {
    "ExecuteTime": {
     "end_time": "2022-12-15T13:27:40.562877Z",
     "start_time": "2022-12-15T13:27:40.543233Z"
    }
   },
   "outputs": [],
   "source": [
    "action = tree.predict(np.array(X.iloc[300,:]).reshape(-1,1).T)"
   ]
  },
  {
   "cell_type": "code",
   "execution_count": 101,
   "id": "e5907f4f",
   "metadata": {
    "ExecuteTime": {
     "end_time": "2022-12-15T14:16:53.320028Z",
     "start_time": "2022-12-15T14:16:53.312028Z"
    }
   },
   "outputs": [
    {
     "data": {
      "text/plain": [
       "6    334\n",
       "dtype: int64"
      ]
     },
     "execution_count": 101,
     "metadata": {},
     "output_type": "execute_result"
    }
   ],
   "source": [
    "np.sum(y == 3)"
   ]
  },
  {
   "cell_type": "code",
   "execution_count": 125,
   "id": "d4578f6a",
   "metadata": {
    "ExecuteTime": {
     "end_time": "2022-12-15T14:34:31.636178Z",
     "start_time": "2022-12-15T14:34:31.548731Z"
    }
   },
   "outputs": [
    {
     "name": "stdout",
     "output_type": "stream",
     "text": [
      "              precision    recall  f1-score   support\n",
      "\n",
      "         0.0       0.76      0.26      0.38      4480\n",
      "         1.0       0.66      0.95      0.78     10369\n",
      "         2.0       0.66      0.35      0.45      1075\n",
      "         3.0       0.71      0.40      0.51      2722\n",
      "\n",
      "    accuracy                           0.67     18646\n",
      "   macro avg       0.70      0.49      0.53     18646\n",
      "weighted avg       0.69      0.67      0.63     18646\n",
      "\n",
      "              precision    recall  f1-score   support\n",
      "\n",
      "         0.0       0.89      0.88      0.88      4480\n",
      "         1.0       0.83      0.96      0.89     10369\n",
      "         2.0       0.93      0.46      0.61      1075\n",
      "         3.0       0.98      0.64      0.77      2722\n",
      "\n",
      "    accuracy                           0.86     18646\n",
      "   macro avg       0.91      0.73      0.79     18646\n",
      "weighted avg       0.87      0.86      0.86     18646\n",
      "\n"
     ]
    }
   ],
   "source": [
    "from sklearn.metrics import classification_report\n",
    "\n",
    "y_pred = nn.predict(X)\n",
    "print(classification_report(y, y_pred))\n",
    "\n",
    "y_pred = tree.predict(X)\n",
    "print(classification_report(y, y_pred))"
   ]
  },
  {
   "cell_type": "code",
   "execution_count": 111,
   "id": "c845bfc2",
   "metadata": {
    "ExecuteTime": {
     "end_time": "2022-12-15T14:18:21.703558Z",
     "start_time": "2022-12-15T14:18:21.667899Z"
    }
   },
   "outputs": [
    {
     "data": {
      "text/plain": [
       "225"
      ]
     },
     "execution_count": 111,
     "metadata": {},
     "output_type": "execute_result"
    }
   ],
   "source": [
    "np.sum(nn.predict(X) == 3)"
   ]
  }
 ],
 "metadata": {
  "hide_input": false,
  "kernelspec": {
   "display_name": "Python 3 (ipykernel)",
   "language": "python",
   "name": "python3"
  },
  "language_info": {
   "codemirror_mode": {
    "name": "ipython",
    "version": 3
   },
   "file_extension": ".py",
   "mimetype": "text/x-python",
   "name": "python",
   "nbconvert_exporter": "python",
   "pygments_lexer": "ipython3",
   "version": "3.8.5"
  },
  "varInspector": {
   "cols": {
    "lenName": 16,
    "lenType": 16,
    "lenVar": 40
   },
   "kernels_config": {
    "python": {
     "delete_cmd_postfix": "",
     "delete_cmd_prefix": "del ",
     "library": "var_list.py",
     "varRefreshCmd": "print(var_dic_list())"
    },
    "r": {
     "delete_cmd_postfix": ") ",
     "delete_cmd_prefix": "rm(",
     "library": "var_list.r",
     "varRefreshCmd": "cat(var_dic_list()) "
    }
   },
   "types_to_exclude": [
    "module",
    "function",
    "builtin_function_or_method",
    "instance",
    "_Feature"
   ],
   "window_display": false
  }
 },
 "nbformat": 4,
 "nbformat_minor": 5
}
