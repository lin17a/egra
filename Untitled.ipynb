{
 "cells": [
  {
   "cell_type": "code",
   "execution_count": 121,
   "id": "6e66a6b6",
   "metadata": {
    "ExecuteTime": {
     "end_time": "2022-12-15T14:34:02.370504Z",
     "start_time": "2022-12-15T14:34:02.344505Z"
    }
   },
   "outputs": [],
   "source": [
    "import numpy as np\n",
    "import pandas as pd\n",
    "\n",
    "with open('JERS_values.npy', 'rb') as f:\n",
    "            g = np.load(f, allow_pickle=True)"
   ]
  },
  {
   "cell_type": "code",
   "execution_count": 122,
   "id": "65fb151a",
   "metadata": {
    "ExecuteTime": {
     "end_time": "2022-12-15T14:34:02.573108Z",
     "start_time": "2022-12-15T14:34:02.562111Z"
    }
   },
   "outputs": [
    {
     "data": {
      "text/plain": [
       "(18646, 7)"
      ]
     },
     "execution_count": 122,
     "metadata": {},
     "output_type": "execute_result"
    }
   ],
   "source": [
    "g = pd.DataFrame(g)\n",
    "g.shape"
   ]
  },
  {
   "cell_type": "code",
   "execution_count": 123,
   "id": "0b68bfee",
   "metadata": {
    "ExecuteTime": {
     "end_time": "2022-12-15T14:34:03.146761Z",
     "start_time": "2022-12-15T14:34:03.138761Z"
    }
   },
   "outputs": [],
   "source": [
    "X = g.iloc[:, :6]\n",
    "y = g.iloc[:, 6:]"
   ]
  },
  {
   "cell_type": "code",
   "execution_count": 124,
   "id": "26b08010",
   "metadata": {
    "ExecuteTime": {
     "end_time": "2022-12-15T14:34:15.641875Z",
     "start_time": "2022-12-15T14:34:04.108191Z"
    }
   },
   "outputs": [
    {
     "name": "stderr",
     "output_type": "stream",
     "text": [
      "C:\\Users\\Jairo Enrique\\.conda\\envs\\DataScience\\lib\\site-packages\\sklearn\\utils\\validation.py:72: DataConversionWarning: A column-vector y was passed when a 1d array was expected. Please change the shape of y to (n_samples, ), for example using ravel().\n",
      "  return f(**kwargs)\n"
     ]
    }
   ],
   "source": [
    "from sklearn.neural_network import MLPClassifier\n",
    "from sklearn.tree import DecisionTreeClassifier\n",
    "\n",
    "tree = DecisionTreeClassifier(random_state=0, max_depth = 20).fit(X, y)\n",
    "\n",
    "nn = MLPClassifier(random_state = 1, max_iter = 1000).fit(X, y)"
   ]
  },
  {
   "cell_type": "code",
   "execution_count": 126,
   "id": "2e2dda9b",
   "metadata": {
    "ExecuteTime": {
     "end_time": "2022-12-15T14:34:38.859430Z",
     "start_time": "2022-12-15T14:34:38.845430Z"
    }
   },
   "outputs": [
    {
     "data": {
      "text/plain": [
       "['JERS.joblib']"
      ]
     },
     "execution_count": 126,
     "metadata": {},
     "output_type": "execute_result"
    }
   ],
   "source": [
    "from joblib import dump, load\n",
    "dump(tree, 'JERS.joblib') "
   ]
  },
  {
   "cell_type": "code",
   "execution_count": 85,
   "id": "9ec9f900",
   "metadata": {
    "ExecuteTime": {
     "end_time": "2022-12-15T13:25:26.057076Z",
     "start_time": "2022-12-15T13:25:26.039990Z"
    }
   },
   "outputs": [],
   "source": [
    "tree = load('JERS.joblib') "
   ]
  },
  {
   "cell_type": "code",
   "execution_count": 87,
   "id": "bf2de311",
   "metadata": {
    "ExecuteTime": {
     "end_time": "2022-12-15T13:27:40.562877Z",
     "start_time": "2022-12-15T13:27:40.543233Z"
    }
   },
   "outputs": [],
   "source": [
    "action = tree.predict(np.array(X.iloc[300,:]).reshape(-1,1).T)"
   ]
  },
  {
   "cell_type": "code",
   "execution_count": 101,
   "id": "782d4603",
   "metadata": {
    "ExecuteTime": {
     "end_time": "2022-12-15T14:16:53.320028Z",
     "start_time": "2022-12-15T14:16:53.312028Z"
    }
   },
   "outputs": [
    {
     "data": {
      "text/plain": [
       "6    334\n",
       "dtype: int64"
      ]
     },
     "execution_count": 101,
     "metadata": {},
     "output_type": "execute_result"
    }
   ],
   "source": [
    "np.sum(y == 3)"
   ]
  },
  {
   "cell_type": "code",
   "execution_count": 125,
   "id": "f824c207",
   "metadata": {
    "ExecuteTime": {
     "end_time": "2022-12-15T14:34:31.636178Z",
     "start_time": "2022-12-15T14:34:31.548731Z"
    }
   },
   "outputs": [
    {
     "name": "stdout",
     "output_type": "stream",
     "text": [
      "              precision    recall  f1-score   support\n",
      "\n",
      "         0.0       0.76      0.26      0.38      4480\n",
      "         1.0       0.66      0.95      0.78     10369\n",
      "         2.0       0.66      0.35      0.45      1075\n",
      "         3.0       0.71      0.40      0.51      2722\n",
      "\n",
      "    accuracy                           0.67     18646\n",
      "   macro avg       0.70      0.49      0.53     18646\n",
      "weighted avg       0.69      0.67      0.63     18646\n",
      "\n",
      "              precision    recall  f1-score   support\n",
      "\n",
      "         0.0       0.89      0.88      0.88      4480\n",
      "         1.0       0.83      0.96      0.89     10369\n",
      "         2.0       0.93      0.46      0.61      1075\n",
      "         3.0       0.98      0.64      0.77      2722\n",
      "\n",
      "    accuracy                           0.86     18646\n",
      "   macro avg       0.91      0.73      0.79     18646\n",
      "weighted avg       0.87      0.86      0.86     18646\n",
      "\n"
     ]
    }
   ],
   "source": [
    "from sklearn.metrics import classification_report\n",
    "\n",
    "y_pred = nn.predict(X)\n",
    "print(classification_report(y, y_pred))\n",
    "\n",
    "y_pred = tree.predict(X)\n",
    "print(classification_report(y, y_pred))"
   ]
  },
  {
   "cell_type": "code",
   "execution_count": 111,
   "id": "f22df946",
   "metadata": {
    "ExecuteTime": {
     "end_time": "2022-12-15T14:18:21.703558Z",
     "start_time": "2022-12-15T14:18:21.667899Z"
    }
   },
   "outputs": [
    {
     "data": {
      "text/plain": [
       "225"
      ]
     },
     "execution_count": 111,
     "metadata": {},
     "output_type": "execute_result"
    }
   ],
   "source": [
    "np.sum(nn.predict(X) == 3)"
   ]
  }
 ],
 "metadata": {
  "hide_input": false,
  "kernelspec": {
   "display_name": "Python 3 (ipykernel)",
   "language": "python",
   "name": "python3"
  },
  "language_info": {
   "codemirror_mode": {
    "name": "ipython",
    "version": 3
   },
   "file_extension": ".py",
   "mimetype": "text/x-python",
   "name": "python",
   "nbconvert_exporter": "python",
   "pygments_lexer": "ipython3",
   "version": "3.8.5"
  },
  "varInspector": {
   "cols": {
    "lenName": 16,
    "lenType": 16,
    "lenVar": 40
   },
   "kernels_config": {
    "python": {
     "delete_cmd_postfix": "",
     "delete_cmd_prefix": "del ",
     "library": "var_list.py",
     "varRefreshCmd": "print(var_dic_list())"
    },
    "r": {
     "delete_cmd_postfix": ") ",
     "delete_cmd_prefix": "rm(",
     "library": "var_list.r",
     "varRefreshCmd": "cat(var_dic_list()) "
    }
   },
   "types_to_exclude": [
    "module",
    "function",
    "builtin_function_or_method",
    "instance",
    "_Feature"
   ],
   "window_display": false
  }
 },
 "nbformat": 4,
 "nbformat_minor": 5
}
